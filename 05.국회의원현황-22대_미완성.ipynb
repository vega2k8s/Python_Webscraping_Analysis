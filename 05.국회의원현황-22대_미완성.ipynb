{
 "cells": [
  {
   "cell_type": "markdown",
   "id": "0",
   "metadata": {},
   "source": [
    "### 국회의원 현황정보 수집/분석/시각화/저장\n",
    "* [국회의원현황](https://www.assembly.go.kr/portal/cnts/cntsCont/dataA.do?cntsDivCd=NAAS&menuNo=600137)\n",
    "* 이름과 ID 추출\n",
    "* 상세페이지 정보 추출 (json으로 저장)\n",
    "* 상세정보들을 DataFrame으로 변환\n",
    "* 시각화(막대그래프,히스토그램, 파이챠트, 히트맵)\n",
    "* 테이블로 저장"
   ]
  },
  {
   "cell_type": "code",
   "execution_count": null,
   "id": "1",
   "metadata": {},
   "outputs": [],
   "source": [
    "import requests\n",
    "from bs4 import BeautifulSoup\n",
    "import re\n",
    "\n",
    "headers = {\n",
    "    'user-agent':'Mozilla/5.0 (Windows NT 10.0; Win64; x64) AppleWebKit/537.36 (KHTML, like Gecko) Chrome/74.0.3729.169 Safari/537.36'\n",
    "}\n",
    "# url = f'https://www.assembly.go.kr/portal/cnts/cntsNaas/findNaasThx01.json?pageIndex={index}'\n",
    "\n"
   ]
  },
  {
   "cell_type": "markdown",
   "id": "2",
   "metadata": {},
   "source": [
    "#### Json 일부 데이터와 웹페이지의 상세정보 데이터 가져오기"
   ]
  },
  {
   "cell_type": "code",
   "execution_count": null,
   "id": "3",
   "metadata": {},
   "outputs": [],
   "source": [
    "import requests\n",
    "from bs4 import BeautifulSoup\n",
    "import re\n",
    "from urllib.parse import urljoin\n",
    "\n",
    "print('===> 스크래핑 시작')\n",
    "\n",
    "print('===> 스크래핑 끝')"
   ]
  },
  {
   "cell_type": "code",
   "execution_count": null,
   "id": "4",
   "metadata": {},
   "outputs": [],
   "source": [
    "# member_detail_list 를  data/member.json 파일로 저장하기기\n"
   ]
  },
  {
   "cell_type": "code",
   "execution_count": null,
   "id": "5",
   "metadata": {
    "tags": []
   },
   "outputs": [],
   "source": [
    "# panda의 read_json() 함수로 data/member.json 파일을 읽어온다.\n"
   ]
  },
  {
   "cell_type": "code",
   "execution_count": null,
   "id": "6",
   "metadata": {},
   "outputs": [],
   "source": [
    "# import pandas as pd\n",
    "\n",
    "# member_df = pd.DataFrame(columns=['이름','정당','생년월일','당선횟수','선거구','소속위원회','이미지','사무실 전화','사무실 호실',\\\n",
    "#                                   '의원 홈페이지','개별 홈페이지','이메일','보좌관','선임비서관','비서관','의원실 안내'])\n",
    "\n",
    "# for member_detail in member_detail_list:\n",
    "#     df_new_row = pd.DataFrame.from_records([member_detail])\n",
    "#     member_df = pd.concat([member_df, df_new_row])\n",
    "\n",
    "    # dict <=> Series\n",
    "    #series_obj = pd.Series(member_detail)\n",
    "    # Series 객체를 append \n",
    "    #member_df = member_df.append(series_obj, ignore_index=True)\n",
    "    \n",
    "# member_df.head(2)"
   ]
  },
  {
   "cell_type": "code",
   "execution_count": null,
   "id": "7",
   "metadata": {},
   "outputs": [],
   "source": [
    "#member_df.shape"
   ]
  },
  {
   "cell_type": "code",
   "execution_count": null,
   "id": "8",
   "metadata": {},
   "outputs": [],
   "source": [
    "# index를 0이 아니라 1부터 시작하도록 변경하기\n"
   ]
  },
  {
   "cell_type": "code",
   "execution_count": null,
   "id": "9",
   "metadata": {},
   "outputs": [],
   "source": [
    "# tail() 함수"
   ]
  },
  {
   "cell_type": "code",
   "execution_count": null,
   "id": "10",
   "metadata": {},
   "outputs": [],
   "source": [
    "# info() 함수\n"
   ]
  },
  {
   "cell_type": "code",
   "execution_count": null,
   "id": "11",
   "metadata": {},
   "outputs": [],
   "source": [
    "# unique 한 정당명을 List 형태로 출력하기"
   ]
  },
  {
   "cell_type": "code",
   "execution_count": null,
   "id": "12",
   "metadata": {},
   "outputs": [],
   "source": [
    "# 정당명을 Row Counting"
   ]
  },
  {
   "cell_type": "code",
   "execution_count": null,
   "id": "13",
   "metadata": {},
   "outputs": [],
   "source": [
    "# 당선횟수를 Row Counting"
   ]
  },
  {
   "cell_type": "code",
   "execution_count": null,
   "id": "14",
   "metadata": {},
   "outputs": [],
   "source": [
    "# 선거구를 Row Counting"
   ]
  },
  {
   "cell_type": "code",
   "execution_count": null,
   "id": "15",
   "metadata": {},
   "outputs": [],
   "source": [
    "#당선횟수2 컬럼을 새로 추가\n",
    "#재선(20대,21대) -> 재선\n"
   ]
  },
  {
   "cell_type": "code",
   "execution_count": null,
   "id": "16",
   "metadata": {},
   "outputs": [],
   "source": [
    "#당선횟수2 컬럼의 값을 확인"
   ]
  },
  {
   "cell_type": "code",
   "execution_count": null,
   "id": "17",
   "metadata": {},
   "outputs": [],
   "source": [
    "#6선 국회의원 누구?\n"
   ]
  },
  {
   "cell_type": "code",
   "execution_count": null,
   "id": "18",
   "metadata": {},
   "outputs": [],
   "source": [
    "#선거구2 컬럼을 새로 추가\n",
    "#경남창원시성산구 -> 경남\n",
    "\n",
    "#Series객체를 StringMethods 객체로 변환(문자열 슬라이싱을 하기 위해서)\n",
    "\n",
    "#2글자 슬라이싱 값을 선거구2 라는 컬럼으로 저장\n"
   ]
  },
  {
   "cell_type": "code",
   "execution_count": null,
   "id": "19",
   "metadata": {},
   "outputs": [],
   "source": [
    "# 선거구2를 Row Counting"
   ]
  },
  {
   "cell_type": "code",
   "execution_count": null,
   "id": "20",
   "metadata": {},
   "outputs": [],
   "source": [
    "# 선거구를 퍼센트로 Row Counting"
   ]
  },
  {
   "cell_type": "code",
   "execution_count": null,
   "id": "21",
   "metadata": {},
   "outputs": [],
   "source": [
    "# 컬럼명 확인하기"
   ]
  },
  {
   "cell_type": "code",
   "execution_count": null,
   "id": "22",
   "metadata": {},
   "outputs": [],
   "source": [
    "# 이미지 컬럼의 값 확인하기\n"
   ]
  },
  {
   "cell_type": "markdown",
   "id": "23",
   "metadata": {},
   "source": [
    "### 시각화(Visualization)\n",
    "* Image 출력 - IPython에서 제공하는 Image 객체, display() 함수 사용\n",
    "* seaborn - countplot, distplot, heatmap\n",
    "* matplotlib - histogram, pie chart\n",
    "* 한글폰트 설정"
   ]
  },
  {
   "cell_type": "code",
   "execution_count": null,
   "id": "24",
   "metadata": {},
   "outputs": [],
   "source": []
  },
  {
   "cell_type": "code",
   "execution_count": null,
   "id": "25",
   "metadata": {},
   "outputs": [],
   "source": [
    "%matplotlib inline"
   ]
  },
  {
   "cell_type": "code",
   "execution_count": null,
   "id": "26",
   "metadata": {},
   "outputs": [],
   "source": [
    "import matplotlib\n",
    "import matplotlib.pyplot as plt\n",
    "import matplotlib.font_manager as fm\n",
    "\n",
    "import seaborn as sns"
   ]
  },
  {
   "cell_type": "code",
   "execution_count": null,
   "id": "27",
   "metadata": {},
   "outputs": [],
   "source": [
    "#한글폰트 설정\n",
    "font_path = 'C:\\\\Windows\\\\Fonts\\\\malgun.ttf'\n",
    "# font의 파일정보로 font name을 알아내기\n",
    "font_prop = fm.FontProperties(fname=font_path).get_name()\n",
    "print(font_prop)\n",
    "# matplotlib의 rc(run command) 함수를 사용해서 폰트이름 설정\n",
    "matplotlib.rc('font', family=font_prop)"
   ]
  },
  {
   "cell_type": "markdown",
   "id": "28",
   "metadata": {},
   "source": [
    "#### Seaborn의 막대그래프\n",
    "* barplot - x축과 y축을 둘 다 설정할 수 있음\n",
    "* countplot - x축 이나 y축 중에서 하나만 설정할 수 있음"
   ]
  },
  {
   "cell_type": "code",
   "execution_count": null,
   "id": "29",
   "metadata": {},
   "outputs": [],
   "source": [
    "# 정당별 Row Counting"
   ]
  },
  {
   "cell_type": "code",
   "execution_count": null,
   "id": "30",
   "metadata": {},
   "outputs": [],
   "source": [
    "# 정당별 Row Counting 한 Series 객체의 index \n"
   ]
  },
  {
   "cell_type": "code",
   "execution_count": null,
   "id": "31",
   "metadata": {},
   "outputs": [],
   "source": [
    "# Figure와 Axes 객체 생성하기\n",
    "\n",
    "# Seaborn 의 countplot() 함수 호출하기 - 정당, 당선횟수2\n"
   ]
  },
  {
   "cell_type": "code",
   "execution_count": null,
   "id": "32",
   "metadata": {},
   "outputs": [],
   "source": [
    "#선거구2 컬럼을 값으로  countplot 그리기\n"
   ]
  },
  {
   "cell_type": "code",
   "execution_count": null,
   "id": "33",
   "metadata": {},
   "outputs": [],
   "source": [
    "#row count를 %(퍼센티지) 비율로 나타내려면 normalize=True 로 설정\n"
   ]
  },
  {
   "cell_type": "code",
   "execution_count": null,
   "id": "34",
   "metadata": {},
   "outputs": [],
   "source": [
    "#matplotlib의 pie chart 그리기\n",
    "#figure size 설정\n",
    "\n",
    "\n",
    "#autopct는 값의 퍼센티지 포맷을 설정\n",
    "#startangle은 첫번째 pie의 각도 설정\n",
    "\n",
    "#pie plot를 그릴때 원의 형태를 유지하도록 하는 설정\n"
   ]
  },
  {
   "cell_type": "code",
   "execution_count": null,
   "id": "35",
   "metadata": {},
   "outputs": [],
   "source": [
    "# 기존의 DataFrame 객체를 복사하여 table_df 라는 변수의 새로운 DataFrame 객체를 생성한다.\n"
   ]
  },
  {
   "cell_type": "code",
   "execution_count": null,
   "id": "36",
   "metadata": {},
   "outputs": [],
   "source": [
    "#컬럼명 변경 - '선거구2':'선거구','당선횟수2':'당선횟수'\n"
   ]
  },
  {
   "cell_type": "code",
   "execution_count": null,
   "id": "37",
   "metadata": {},
   "outputs": [],
   "source": []
  },
  {
   "cell_type": "code",
   "execution_count": null,
   "id": "38",
   "metadata": {},
   "outputs": [],
   "source": [
    "# table_df를  member 테이블로 저장하기"
   ]
  }
 ],
 "metadata": {
  "kernelspec": {
   "display_name": "base",
   "language": "python",
   "name": "python3"
  },
  "language_info": {
   "codemirror_mode": {
    "name": "ipython",
    "version": 3
   },
   "file_extension": ".py",
   "mimetype": "text/x-python",
   "name": "python",
   "nbconvert_exporter": "python",
   "pygments_lexer": "ipython3",
   "version": "3.12.7"
  }
 },
 "nbformat": 4,
 "nbformat_minor": 5
}
