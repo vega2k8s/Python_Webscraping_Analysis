{
 "cells": [
  {
   "cell_type": "code",
   "execution_count": null,
   "metadata": {},
   "outputs": [],
   "source": [
    "%matplotlib inline\n",
    "import matplotlib\n",
    "import matplotlib.pyplot as plt\n",
    "import pandas as pd\n",
    "import numpy as np"
   ]
  },
  {
   "cell_type": "code",
   "execution_count": null,
   "metadata": {},
   "outputs": [],
   "source": [
    "primary = pd.read_csv(\"data/2016_presidential_election/primary_results.csv\",sep=\",\")\n",
    "counties = pd.read_csv(\"data/2016_presidential_election/county_facts.csv\",sep=\",\")"
   ]
  },
  {
   "cell_type": "code",
   "execution_count": null,
   "metadata": {},
   "outputs": [],
   "source": [
    "print(primary.shape)\t#라인수, 컬럼수 확인\n",
    "print(primary.columns) \t#컬럼명 확인\n",
    "primary.head()\t#상위 5개 행의 데이터 확인"
   ]
  },
  {
   "cell_type": "code",
   "execution_count": null,
   "metadata": {},
   "outputs": [],
   "source": [
    "primary['party'].unique()"
   ]
  },
  {
   "cell_type": "code",
   "execution_count": null,
   "metadata": {},
   "outputs": [],
   "source": [
    "print(counties.shape)\n",
    "print(counties.columns)\n",
    "counties.head()"
   ]
  },
  {
   "cell_type": "markdown",
   "metadata": {
    "jupyter": {
     "outputs_hidden": true
    }
   },
   "source": [
    "### 각 후보별 전체 득표수 계산하기"
   ]
  },
  {
   "cell_type": "code",
   "execution_count": null,
   "metadata": {},
   "outputs": [],
   "source": [
    "candidate_to_votes_s = primary.groupby(\"candidate\")[\"votes\"].sum().sort_values()"
   ]
  },
  {
   "cell_type": "code",
   "execution_count": null,
   "metadata": {},
   "outputs": [],
   "source": [
    "candidate_to_votes_s"
   ]
  },
  {
   "cell_type": "code",
   "execution_count": null,
   "metadata": {},
   "outputs": [],
   "source": [
    "plt.figure(figsize=(20,10))\n",
    "candidate_to_votes_s.plot(kind=\"barh\", fontsize=8)"
   ]
  },
  {
   "cell_type": "markdown",
   "metadata": {},
   "source": [
    "### 각 주별, 각 정당의 득표 비율 계산하기\n",
    "### 각 주별, 정당별 득표수 계산하기"
   ]
  },
  {
   "cell_type": "code",
   "execution_count": null,
   "metadata": {},
   "outputs": [],
   "source": [
    "state_party_to_votes_s = primary.groupby([\"state\", \"party\"])[\"votes\"].sum()\n",
    "state_party_to_votes_s"
   ]
  },
  {
   "cell_type": "code",
   "execution_count": null,
   "metadata": {},
   "outputs": [],
   "source": [
    "#각 주별 득표수\n",
    "state_to_votes_s = primary.groupby(\"state\")[\"votes\"].sum()\n",
    "state_to_votes_s"
   ]
  },
  {
   "cell_type": "markdown",
   "metadata": {},
   "source": [
    "### state별, party별 득표수의 합의 퍼센티지 구함"
   ]
  },
  {
   "cell_type": "code",
   "execution_count": null,
   "metadata": {},
   "outputs": [],
   "source": [
    "state_party_to_vote_pcts_s = state_party_to_votes_s / state_to_votes_s\n",
    "state_party_to_vote_pcts_s"
   ]
  },
  {
   "cell_type": "code",
   "execution_count": null,
   "metadata": {},
   "outputs": [],
   "source": [
    "print(type(state_party_to_vote_pcts_s))\n",
    "print(state_party_to_vote_pcts_s.index)"
   ]
  },
  {
   "cell_type": "code",
   "execution_count": null,
   "metadata": {},
   "outputs": [],
   "source": [
    "#인덱스로 되어 있던 party(정당) : 인덱스를 칼럼으로 보낸것임 - 최하위 인덱스를 칼럼으로 보냄\n",
    "state_party_to_vote_pcts_df = state_party_to_vote_pcts_s.unstack()\n",
    "state_party_to_vote_pcts_df"
   ]
  },
  {
   "cell_type": "code",
   "execution_count": null,
   "metadata": {},
   "outputs": [],
   "source": [
    "print(type(state_party_to_vote_pcts_df))\n",
    "print(state_party_to_vote_pcts_df.index)\n",
    "print(state_party_to_vote_pcts_df.columns)"
   ]
  },
  {
   "cell_type": "code",
   "execution_count": null,
   "metadata": {},
   "outputs": [],
   "source": [
    "figure, axes1 = plt.subplots(nrows=1, ncols=1)\n",
    "figure.set_size_inches(18,12)\n",
    "#plt.figure(figsize=(100,40))\n",
    "state_party_to_vote_pcts_df.plot(kind=\"barh\", stacked=True, fontsize=10, ax=axes1)"
   ]
  },
  {
   "cell_type": "markdown",
   "metadata": {
    "jupyter": {
     "outputs_hidden": true
    }
   },
   "source": [
    "## primary와 counties 를 merge하는 연습하기"
   ]
  },
  {
   "cell_type": "code",
   "execution_count": null,
   "metadata": {},
   "outputs": [],
   "source": [
    "#merge 연습 fips 칼럼 기준으로 merge\n",
    "pd.merge(primary, counties, on=\"fips\")"
   ]
  },
  {
   "cell_type": "code",
   "execution_count": null,
   "metadata": {},
   "outputs": [],
   "source": [
    "#primary의 모든 컬럼과 counties의 'fips'와 'RHI425214' 컬럼  join\n",
    "pd.merge(primary, counties[['fips','RHI425214']], on=\"fips\")"
   ]
  },
  {
   "cell_type": "code",
   "execution_count": null,
   "metadata": {},
   "outputs": [],
   "source": [
    "#primary의 'fips','party' 컬럼과 counties의 'fips'와 'RHI425214' 컬럼  outer join\n",
    "#pd.merge(primary[['fips','party']], counties[['fips','RHI425214']], on=\"fips\") #13211\n",
    "pd.merge(primary[['fips','party']], counties[['fips','RHI425214']], on=\"fips\",how='outer') #14358"
   ]
  },
  {
   "cell_type": "code",
   "execution_count": null,
   "metadata": {},
   "outputs": [],
   "source": [
    "#100개의 row 만 가져와서 merge 함\n",
    "pd.merge(primary.loc[:100,['state','fips','county','party']], counties.loc[:100,['fips','area_name','RHI425214']], on=\"fips\",how='left')"
   ]
  },
  {
   "cell_type": "code",
   "execution_count": null,
   "metadata": {},
   "outputs": [],
   "source": [
    "primary['state'].unique()"
   ]
  },
  {
   "cell_type": "code",
   "execution_count": null,
   "metadata": {},
   "outputs": [],
   "source": [
    "primary['state'].value_counts()"
   ]
  },
  {
   "cell_type": "code",
   "execution_count": null,
   "metadata": {},
   "outputs": [],
   "source": [
    "primary.loc[primary['state'] == 'Maine',:]"
   ]
  },
  {
   "cell_type": "code",
   "execution_count": null,
   "metadata": {},
   "outputs": [],
   "source": [
    "#Maine state 인 row 의 merge\n",
    "pd.merge(primary.loc[primary['state'] == 'Maine',['state','fips','county','party','candidate']],\\\n",
    "         counties.loc[:,['fips','area_name','RHI425214']], on=\"fips\",how='left')"
   ]
  },
  {
   "cell_type": "code",
   "execution_count": null,
   "metadata": {},
   "outputs": [],
   "source": [
    "#fips 컬럼을 index로 변경함\n",
    "counties2 = counties.set_index(\"fips\")\n",
    "counties2.head()"
   ]
  },
  {
   "cell_type": "code",
   "execution_count": null,
   "metadata": {},
   "outputs": [],
   "source": [
    "#인덱스 기준 merging\n",
    "pd.merge(primary, counties2[['area_name','PST045214']], left_on=\"fips\", right_index=True).head()\n",
    "#pd.merge(primary[['fips','county','party']], counties2[['area_name','PST045214']], left_on=\"fips\", right_index=True)"
   ]
  },
  {
   "cell_type": "code",
   "execution_count": null,
   "metadata": {},
   "outputs": [],
   "source": [
    "primary.head()"
   ]
  },
  {
   "cell_type": "code",
   "execution_count": null,
   "metadata": {},
   "outputs": [],
   "source": [
    "#계층적 인덱싱 만들기\n",
    "primary2 = primary.set_index([\"state\",\"county\"])"
   ]
  },
  {
   "cell_type": "code",
   "execution_count": null,
   "metadata": {},
   "outputs": [],
   "source": [
    "primary2.head()"
   ]
  },
  {
   "cell_type": "code",
   "execution_count": null,
   "metadata": {},
   "outputs": [],
   "source": [
    "#3개의 컬럼을 인덱스로 변경해줌\n",
    "primary2 = primary.set_index([\"state\",\"county\",\"party\"])"
   ]
  },
  {
   "cell_type": "code",
   "execution_count": null,
   "metadata": {},
   "outputs": [],
   "source": [
    "primary2.head()"
   ]
  },
  {
   "cell_type": "code",
   "execution_count": null,
   "metadata": {},
   "outputs": [],
   "source": [
    "#기존 열을 그대로 유지하고 싶다면 drop=False\n",
    "primary2 = primary.set_index([\"state\",\"county\",\"party\"],drop=False)"
   ]
  },
  {
   "cell_type": "code",
   "execution_count": null,
   "metadata": {},
   "outputs": [],
   "source": [
    "#각 후보가 당선된 county의 평균 백인 유권자 비율 조사하기 하기전에 연습할 내용"
   ]
  },
  {
   "cell_type": "code",
   "execution_count": null,
   "metadata": {},
   "outputs": [],
   "source": [
    "#fips 마다 후보자들의 득표수가 있다는 것을 확인함\n",
    "primary.loc[primary[\"fips\"] == 1005,:].sort_values(\"votes\",ascending=False)"
   ]
  },
  {
   "cell_type": "code",
   "execution_count": null,
   "metadata": {},
   "outputs": [],
   "source": [
    "primary.loc[primary[\"fips\"] == 1005,:].sort_values(\"votes\",ascending=False).iloc[0]"
   ]
  },
  {
   "cell_type": "code",
   "execution_count": null,
   "metadata": {},
   "outputs": [],
   "source": [
    "#fips별 최대 득표수\n",
    "primary.groupby(\"fips\")[\"votes\"].max()"
   ]
  },
  {
   "cell_type": "code",
   "execution_count": null,
   "metadata": {},
   "outputs": [],
   "source": [
    "#각 후보가 당선된 county의 평균 백인 유권자 비율 조사하기\n",
    "func = lambda agg_df: agg_df.sort_values(\"votes\", ascending=False).iloc[0]\n",
    "winners = primary.groupby(\"fips\").agg(func)"
   ]
  },
  {
   "cell_type": "code",
   "execution_count": null,
   "metadata": {},
   "outputs": [],
   "source": [
    "winners.head()"
   ]
  },
  {
   "cell_type": "code",
   "execution_count": null,
   "metadata": {},
   "outputs": [],
   "source": [
    "#primary와 counties 데이터프레임을 merge 한다.  White alone(백인)\n",
    "winners_county_races = pd.merge(winners, counties[[\"fips\", \"RHI825214\"]], left_index=True, right_on=\"fips\", how=\"left\")"
   ]
  },
  {
   "cell_type": "code",
   "execution_count": null,
   "metadata": {},
   "outputs": [],
   "source": [
    "winners_county_races.head()"
   ]
  },
  {
   "cell_type": "code",
   "execution_count": null,
   "metadata": {},
   "outputs": [],
   "source": [
    "#컬럼명  변경\n",
    "winners_county_races = winners_county_races.rename(columns={\"RHI825214\":\"white_pcts\"})"
   ]
  },
  {
   "cell_type": "code",
   "execution_count": null,
   "metadata": {},
   "outputs": [],
   "source": [
    "winners_county_races.head()"
   ]
  },
  {
   "cell_type": "code",
   "execution_count": null,
   "metadata": {},
   "outputs": [],
   "source": [
    "winners_county_white_pcts = winners_county_races.groupby([\"party\", \"candidate\"])[\"white_pcts\"].mean()"
   ]
  },
  {
   "cell_type": "code",
   "execution_count": null,
   "metadata": {},
   "outputs": [],
   "source": [
    "winners_county_white_pcts"
   ]
  },
  {
   "cell_type": "code",
   "execution_count": null,
   "metadata": {},
   "outputs": [],
   "source": [
    "#plt.figure()\n",
    "plt.figure(figsize=(24,10))\n",
    "ax = winners_county_white_pcts.plot(kind=\"barh\", fontsize=10)\n",
    "ax.set_xlim([50, 100])\n",
    "plt.tight_layout()"
   ]
  },
  {
   "cell_type": "code",
   "execution_count": null,
   "metadata": {},
   "outputs": [],
   "source": [
    "#이와 같은 groupby 구문 대신에 위와 같은 pivot_table() 함수를 사용할 수 있다. \n",
    "#state별 candidate의 득표수의 합\n",
    "primary.groupby([\"state\",\"candidate\"])[\"votes\"].sum()"
   ]
  },
  {
   "cell_type": "code",
   "execution_count": null,
   "metadata": {},
   "outputs": [],
   "source": [
    "total_votes = primary.pivot_table(values=\"votes\", index=\"state\", \n",
    "                    columns=\"candidate\", aggfunc=\"sum\",fill_value=0)"
   ]
  },
  {
   "cell_type": "code",
   "execution_count": null,
   "metadata": {},
   "outputs": [],
   "source": [
    "total_votes"
   ]
  },
  {
   "cell_type": "code",
   "execution_count": null,
   "metadata": {},
   "outputs": [],
   "source": [
    "#state_abbreviation별, party 별 투표비율의 평균\n",
    "primary.groupby(['state_abbreviation','party'])[\"fraction_votes\"].mean()"
   ]
  },
  {
   "cell_type": "code",
   "execution_count": null,
   "metadata": {},
   "outputs": [],
   "source": [
    "#pivot_table 사용\n",
    "mean_frac_votes=primary.pivot_table(values=\"fraction_votes\", index=\"state_abbreviation\", \n",
    "                    columns=\"party\", aggfunc=\"mean\")"
   ]
  },
  {
   "cell_type": "code",
   "execution_count": null,
   "metadata": {},
   "outputs": [],
   "source": [
    "mean_frac_votes"
   ]
  },
  {
   "cell_type": "code",
   "execution_count": null,
   "metadata": {},
   "outputs": [],
   "source": []
  }
 ],
 "metadata": {
  "kernelspec": {
   "display_name": "Python 3 (ipykernel)",
   "language": "python",
   "name": "python3"
  },
  "language_info": {
   "codemirror_mode": {
    "name": "ipython",
    "version": 3
   },
   "file_extension": ".py",
   "mimetype": "text/x-python",
   "name": "python",
   "nbconvert_exporter": "python",
   "pygments_lexer": "ipython3",
   "version": "3.12.4"
  }
 },
 "nbformat": 4,
 "nbformat_minor": 4
}
