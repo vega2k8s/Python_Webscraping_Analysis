{
 "cells": [
  {
   "cell_type": "markdown",
   "id": "0",
   "metadata": {},
   "source": [
    "### 수집과 분석 \n",
    "* 수집\n",
    "* 분석\n",
    "* ***저장***\n",
    "* ~~머신러닝~~\n",
    "  * alt + enter = cell 실행 + cell 추가\n",
    "  * ctl + enter = cell 실행\n",
    "  * shift + enter = cell 실행 + 커서 아래로 ( 하위 셀이 없다면 추가도 해줌 )\n",
    "* [jupyter equation](https://jupyter-notebook.readthedocs.io/en/stable/examples/Notebook/Typesetting%20Equations.html)  \n",
    "* This site was built using [GitHub Pages](https://pages.github.com/)."
   ]
  },
  {
   "cell_type": "markdown",
   "id": "1",
   "metadata": {},
   "source": [
    "Text that is not a quote\n",
    "\n",
    "> Text that is a quote"
   ]
  },
  {
   "cell_type": "markdown",
   "id": "2",
   "metadata": {},
   "source": [
    "\\begin{equation*}\n",
    "\\left( \\sum_{k=1}^n a_k b_k \\right)^2 \\leq \\left( \\sum_{k=1}^n a_k^2 \\right) \\left( \\sum_{k=1}^n b_k^2 \\right)\n",
    "\\end{equation*}"
   ]
  },
  {
   "cell_type": "markdown",
   "id": "3",
   "metadata": {},
   "source": [
    "\\begin{gather*}\n",
    "a_1=b_1+c_1\\\\\n",
    "a_2=b_2+c_2-d_2+e_2\n",
    "\\end{gather*}"
   ]
  },
  {
   "cell_type": "markdown",
   "id": "4",
   "metadata": {},
   "source": [
    "| This | is   |\n",
    "|------|------|\n",
    "|   a  | table|"
   ]
  },
  {
   "cell_type": "code",
   "execution_count": null,
   "id": "5",
   "metadata": {},
   "outputs": [],
   "source": [
    "lang = 'python'\n",
    "value = 100\n",
    "myStr = '{} {} 언어'.format(lang, value)\n",
    "myStr"
   ]
  },
  {
   "cell_type": "code",
   "execution_count": null,
   "id": "6",
   "metadata": {},
   "outputs": [],
   "source": [
    "myStr2 = f'{lang} {value} 언어'\n",
    "myStr2"
   ]
  },
  {
   "cell_type": "code",
   "execution_count": null,
   "id": "7",
   "metadata": {},
   "outputs": [],
   "source": [
    "val = 56784949494\n",
    "format_val = f'{val:,}'\n",
    "format_val"
   ]
  },
  {
   "cell_type": "code",
   "execution_count": null,
   "id": "8",
   "metadata": {},
   "outputs": [],
   "source": [
    "val = 24737.1234\n",
    "format_val = f'{val:.2f}'\n",
    "format_val"
   ]
  },
  {
   "cell_type": "code",
   "execution_count": null,
   "id": "9",
   "metadata": {},
   "outputs": [],
   "source": [
    "## dict 연습\n",
    "# empty dict 생성\n",
    "my_dict2 = {}\n",
    "my_dict1 = dict()\n",
    "  \n",
    "my_dict = {\n",
    "    'name': '파이썬'\n",
    "}\n",
    "# addr item 추가\n",
    "my_dict['addr'] = '서울'\n",
    "print(my_dict)\n",
    "print(my_dict['name'])\n",
    "#print(my_dict['name2']) KeyError 발생\n",
    "val = my_dict.get('name2')\n",
    "if val:\n",
    "    print(val)\n",
    "else:\n",
    "    print('요청하신 Key가 없습니다.')   \n",
    "    \n",
    "if val is None:\n",
    "    print('요청하신 Key가 없습니다.')      "
   ]
  },
  {
   "cell_type": "code",
   "execution_count": null,
   "id": "10",
   "metadata": {},
   "outputs": [],
   "source": [
    "for k in my_dict.keys():\n",
    "    print(k,my_dict[k])\n",
    "    \n",
    "for k,v in my_dict.items():\n",
    "    print(k, v)"
   ]
  },
  {
   "cell_type": "code",
   "execution_count": null,
   "id": "11",
   "metadata": {},
   "outputs": [],
   "source": [
    "# empty list 생성\n",
    "my_list = list() # []\n",
    "my_list.append('a')\n",
    "\n",
    "odd_list = [1,3,5]\n",
    "my_list.extend(odd_list)\n",
    "my_list"
   ]
  },
  {
   "cell_type": "code",
   "execution_count": null,
   "id": "12",
   "metadata": {},
   "outputs": [],
   "source": [
    "# 함수에서 tuple을 반환\n",
    "def swap(a,b):\n",
    "    #() tuple\n",
    "    return (b,a)"
   ]
  },
  {
   "cell_type": "code",
   "execution_count": null,
   "id": "13",
   "metadata": {},
   "outputs": [],
   "source": [
    "(n1,n2) = swap(10,20)\n",
    "print(n1)\n",
    "print(n2)"
   ]
  },
  {
   "cell_type": "code",
   "execution_count": null,
   "id": "14",
   "metadata": {},
   "outputs": [],
   "source": [
    "# unpacking\n",
    "n1,n2 = [100,200]\n",
    "print(n1)\n",
    "print(n2)"
   ]
  },
  {
   "cell_type": "markdown",
   "id": "15",
   "metadata": {},
   "source": [
    "### List Comprehension\n",
    "* [Code Style](https://docs.python-guide.org/writing/style/)\n",
    "* [Pythonic Code](https://nunenuh.medium.com/how-to-write-pythonic-code-e19b1562fd5)"
   ]
  },
  {
   "cell_type": "code",
   "execution_count": null,
   "id": "16",
   "metadata": {},
   "outputs": [],
   "source": [
    "squares = []\n",
    "for i in range(10): #0~9\n",
    "    if i % 2 == 0:\n",
    "        squares.append(i * i)\n",
    "\n",
    "print(squares)        "
   ]
  },
  {
   "cell_type": "code",
   "execution_count": null,
   "id": "17",
   "metadata": {},
   "outputs": [],
   "source": [
    "# list comprehension\n",
    "\n",
    "squares2 = [i*i for i in range(10) if i % 2 == 0]\n",
    "squares2"
   ]
  },
  {
   "cell_type": "code",
   "execution_count": null,
   "id": "18",
   "metadata": {},
   "outputs": [],
   "source": [
    "'H e l l o'.split(' ') # str -> list"
   ]
  },
  {
   "cell_type": "code",
   "execution_count": null,
   "id": "19",
   "metadata": {},
   "outputs": [],
   "source": [
    "def get_text_list():\n",
    "    lists = []\n",
    "    with open('data/yesterday.txt', 'r',encoding=\"utf8\") as file:\n",
    "        contents = file.read()\n",
    "        lists = contents.split(\"\\n\")\n",
    "\n",
    "    return lists"
   ]
  },
  {
   "cell_type": "code",
   "execution_count": null,
   "id": "20",
   "metadata": {},
   "outputs": [],
   "source": [
    "lyric_list = get_text_list()\n",
    "print(len(lyric_list))\n",
    "lyric_list"
   ]
  },
  {
   "cell_type": "code",
   "execution_count": null,
   "id": "21",
   "metadata": {},
   "outputs": [],
   "source": [
    "# list comprehension\n",
    "lyric_list2 = [lyric for lyric in lyric_list if len(lyric) != 0]\n",
    "print(len(lyric_list2))"
   ]
  },
  {
   "cell_type": "code",
   "execution_count": null,
   "id": "22",
   "metadata": {},
   "outputs": [],
   "source": [
    "my_list = ['a','b','c']\n",
    "my_list[0:2]"
   ]
  },
  {
   "cell_type": "code",
   "execution_count": null,
   "id": "23",
   "metadata": {},
   "outputs": [],
   "source": [
    "my_list[2:]"
   ]
  },
  {
   "cell_type": "code",
   "execution_count": null,
   "id": "24",
   "metadata": {},
   "outputs": [],
   "source": [
    "my_list[:2]"
   ]
  },
  {
   "cell_type": "code",
   "execution_count": null,
   "id": "25",
   "metadata": {},
   "outputs": [],
   "source": [
    "import re\n",
    "\n",
    "text = \"제 번호는 010-1234-5678이고, 친구 번호는 010-9876-5432입니다.\"\n",
    "pattern = r\"\\d{3}-\\d{4}-\\d{4}\"\n",
    "\n",
    "phones = re.findall(pattern, text)\n",
    "print(phones)  # ['010-1234-5678', '010-9876-5432']"
   ]
  },
  {
   "cell_type": "code",
   "execution_count": null,
   "id": "26",
   "metadata": {},
   "outputs": [],
   "source": [
    "# range() 함수의 결과값은 Iterable 하지 않음\n",
    "range(10)"
   ]
  },
  {
   "cell_type": "code",
   "execution_count": null,
   "id": "27",
   "metadata": {},
   "outputs": [],
   "source": [
    "import numpy as np\n",
    "# range() 함수와는 다르게 arange() 함수는 Iterable 객체를 생성한다.\n",
    "np.arange(10)"
   ]
  },
  {
   "cell_type": "code",
   "execution_count": null,
   "id": "28",
   "metadata": {},
   "outputs": [],
   "source": [
    "# range() 와 numpy의 arange() 함수 비교\n",
    "# range() 함수의 결과값은 Iterable 하지 않기 때문에 list() 함수로 wrapping\n",
    "print(list(range(10)))\n",
    "\n",
    "for data in range(10):\n",
    "    print(data)"
   ]
  },
  {
   "cell_type": "code",
   "execution_count": null,
   "id": "29",
   "metadata": {},
   "outputs": [],
   "source": [
    "import numpy as np\n",
    "\n",
    "np.arange(1,11)"
   ]
  },
  {
   "cell_type": "code",
   "execution_count": null,
   "id": "30",
   "metadata": {},
   "outputs": [],
   "source": [
    "#lambda x, loc: \"{:,}\".format(int(x)\n",
    "def my_format(val):\n",
    "    #return \"{:,}\".format(int(val))\n",
    "    return f\"{int(val):,}\""
   ]
  },
  {
   "cell_type": "code",
   "execution_count": null,
   "id": "31",
   "metadata": {},
   "outputs": [],
   "source": [
    "my_format(\"1028326272727\")"
   ]
  },
  {
   "cell_type": "code",
   "execution_count": null,
   "id": "32",
   "metadata": {},
   "outputs": [],
   "source": [
    "result = lambda val: f\"{int(val):,}\"\n",
    "    #\"{:,}\".format(int(val))"
   ]
  },
  {
   "cell_type": "code",
   "execution_count": null,
   "id": "33",
   "metadata": {},
   "outputs": [],
   "source": [
    "result(\"38383823823940\")"
   ]
  },
  {
   "cell_type": "code",
   "execution_count": null,
   "id": "34",
   "metadata": {},
   "outputs": [],
   "source": [
    "# () tuple : 추가로 값을 추가할 수 없음\n",
    "my_tuple = (10,20,10,30)\n",
    "my_tuple.count(10)"
   ]
  },
  {
   "cell_type": "code",
   "execution_count": null,
   "id": "35",
   "metadata": {},
   "outputs": [],
   "source": [
    "dt_list=['이름','취미','나이']\n",
    "dd_list=['파이썬','독서','20']\n",
    "zip(dt_list,dd_list)"
   ]
  },
  {
   "cell_type": "code",
   "execution_count": null,
   "id": "36",
   "metadata": {},
   "outputs": [],
   "source": [
    "\n",
    "for data in zip(dt_list,dd_list):\n",
    "    print(type(data)) # ('이름','파이썬')\n",
    "    print(data[0],data[1])"
   ]
  },
  {
   "cell_type": "code",
   "execution_count": null,
   "id": "37",
   "metadata": {},
   "outputs": [],
   "source": [
    "dict(zip(dt_list,dd_list))"
   ]
  },
  {
   "cell_type": "code",
   "execution_count": null,
   "id": "38",
   "metadata": {},
   "outputs": [],
   "source": [
    "#age = today.year - birth.year - ((today.month, today.day) < (birth.month, birth.day))\n",
    "#calc_age(date(1990,1,1))   calc_age(date(1990,12,17)\n",
    "(12,15) < (1,1)  # False0"
   ]
  },
  {
   "cell_type": "code",
   "execution_count": null,
   "id": "39",
   "metadata": {},
   "outputs": [],
   "source": [
    "(12,15) < (12,17) # True 1"
   ]
  },
  {
   "cell_type": "code",
   "execution_count": null,
   "id": "40",
   "metadata": {},
   "outputs": [],
   "source": [
    "print('meta 데이터 출력 No')"
   ]
  },
  {
   "cell_type": "code",
   "execution_count": null,
   "id": "41",
   "metadata": {},
   "outputs": [],
   "source": [
    "print('meta 데이터 출력되지 않도록하기')"
   ]
  },
  {
   "cell_type": "code",
   "execution_count": null,
   "id": "ecfabe23",
   "metadata": {},
   "outputs": [],
   "source": [
    "print('meta 데이터 출력되지 않도록 마지막')"
   ]
  },
  {
   "cell_type": "code",
   "execution_count": null,
   "id": "cd8ad440",
   "metadata": {},
   "outputs": [],
   "source": []
  }
 ],
 "metadata": {
  "kernelspec": {
   "display_name": "base",
   "language": "python",
   "name": "python3"
  },
  "language_info": {
   "codemirror_mode": {
    "name": "ipython",
    "version": 3
   },
   "file_extension": ".py",
   "mimetype": "text/x-python",
   "name": "python",
   "nbconvert_exporter": "python",
   "pygments_lexer": "ipython3",
   "version": "3.12.7"
  }
 },
 "nbformat": 4,
 "nbformat_minor": 5
}
